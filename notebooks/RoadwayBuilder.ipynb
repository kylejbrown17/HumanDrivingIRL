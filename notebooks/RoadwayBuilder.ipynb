{
 "cells": [
  {
   "cell_type": "code",
   "execution_count": 118,
   "metadata": {
    "collapsed": true
   },
   "outputs": [],
   "source": [
    "import PyPlot\n",
    "using NearestNeighbors\n",
    "using SplineUtils"
   ]
  },
  {
   "cell_type": "code",
   "execution_count": 2,
   "metadata": {},
   "outputs": [
    {
     "data": {
      "text/plain": [
       "R (generic function with 1 method)"
      ]
     },
     "execution_count": 2,
     "metadata": {},
     "output_type": "execute_result"
    }
   ],
   "source": [
    "R(θ) = [cos(θ) -sin(θ); sin(θ) cos(θ)]"
   ]
  },
  {
   "cell_type": "markdown",
   "metadata": {},
   "source": [
    "# Build Road Networks from Intersections"
   ]
  },
  {
   "cell_type": "code",
   "execution_count": null,
   "metadata": {
    "collapsed": true
   },
   "outputs": [],
   "source": [
    "function DubbinsCurveBetweenPts()\n",
    "end"
   ]
  },
  {
   "cell_type": "code",
   "execution_count": 3,
   "metadata": {
    "collapsed": true
   },
   "outputs": [],
   "source": [
    "type Lane\n",
    "    id\n",
    "    spline\n",
    "    length\n",
    "    Pts\n",
    "    boundaryLeft\n",
    "    boundaryRight\n",
    "    predecessors\n",
    "    successors\n",
    "    neighborsLeft\n",
    "    neighborsRight\n",
    "    function Lane(id, spline)\n",
    "        lane = new()\n",
    "        lane.id = id\n",
    "        lane.spline = spline\n",
    "        lane.length = lane.spline.s[end]\n",
    "        lane.Pts = []\n",
    "        lane.boundaryLeft = nothing\n",
    "        lane.boundaryRight = nothing\n",
    "        lane.predecessors = nothing\n",
    "        lane.successors = nothing\n",
    "        lane.neighborsLeft = nothing\n",
    "        lane.neighborsRight = nothing\n",
    "        return lane\n",
    "    end\n",
    "end"
   ]
  },
  {
   "cell_type": "code",
   "execution_count": 4,
   "metadata": {
    "collapsed": true
   },
   "outputs": [],
   "source": [
    "type Road\n",
    "    id\n",
    "    spline\n",
    "    Pts\n",
    "    lanes\n",
    "    successors # other roads\n",
    "    predecessors # other lanes\n",
    "    speed\n",
    "    \n",
    "    function Road(id, spline, speed)\n",
    "        road = new()\n",
    "        road.id = id\n",
    "        road.spline = spline\n",
    "        road.successors = none\n",
    "        road.predecessors = none\n",
    "        road.speed = speed\n",
    "        return road\n",
    "    end\n",
    "end"
   ]
  },
  {
   "cell_type": "code",
   "execution_count": 5,
   "metadata": {
    "collapsed": true,
    "scrolled": true
   },
   "outputs": [],
   "source": [
    "type curvePt\n",
    "    id\n",
    "    x\n",
    "    y\n",
    "    θ # heading\n",
    "    s # arc length\n",
    "    k # curvature\n",
    "    function curvePt()\n",
    "        pt = new()\n",
    "        pt.id = nothing\n",
    "        pt.x = nothing\n",
    "        pt.y = nothing\n",
    "        pt.θ = nothing\n",
    "        pt.s = nothing\n",
    "        pt.k = nothing\n",
    "        return pt\n",
    "    end\n",
    "end"
   ]
  },
  {
   "cell_type": "code",
   "execution_count": 6,
   "metadata": {
    "scrolled": false
   },
   "outputs": [
    {
     "data": {
      "image/png": "[encoded data removed]",
      "text/plain": [
       "PyPlot.Figure(PyObject <matplotlib.figure.Figure object at 0x7fdfbf03d810>)"
      ]
     },
     "metadata": {},
     "output_type": "display_data"
    }
   ],
   "source": [
    "controlPts = [0.0 1.0 0.0 5.0 4.0 5.0; 0.0 1.0 5.0 5.0 1.0 0.0]\n",
    "degree = 3\n",
    "numPts = 50\n",
    "spline = Bspline(controlPts, degree, numPts; resample=false, Δs=0.1);\n",
    "PyPlot.figure(figsize=[10,4])\n",
    "PyPlot.subplot(1,2,1)\n",
    "PyPlot.scatter(spline.x,spline.y)\n",
    "PyPlot.axis(\"equal\");\n",
    "ResampleByArcLength!(spline; Δs=0.5)\n",
    "PyPlot.subplot(1,2,2)\n",
    "PyPlot.scatter(spline.x,spline.y)\n",
    "PyPlot.axis(\"equal\");"
   ]
  },
  {
   "cell_type": "code",
   "execution_count": 8,
   "metadata": {
    "collapsed": true
   },
   "outputs": [],
   "source": [
    "type id_dispenser\n",
    "    available_ids\n",
    "    function id_dispenser(num_ids)\n",
    "        retval = new()\n",
    "        retval.available_ids = Set(i for i in 1:num_ids)\n",
    "        return retval\n",
    "    end\n",
    "end"
   ]
  },
  {
   "cell_type": "code",
   "execution_count": 9,
   "metadata": {},
   "outputs": [
    {
     "data": {
      "text/plain": [
       "getId (generic function with 1 method)"
      ]
     },
     "execution_count": 9,
     "metadata": {},
     "output_type": "execute_result"
    }
   ],
   "source": [
    "function getId(dispenser::id_dispenser)\n",
    "    return pop!(dispenser.available_ids)\n",
    "end"
   ]
  },
  {
   "cell_type": "code",
   "execution_count": 10,
   "metadata": {
    "scrolled": true
   },
   "outputs": [
    {
     "data": {
      "text/plain": [
       "id_dispenser(Set([68, 2, 89, 11, 39, 46, 85, 25, 55, 42  …  72, 28, 5, 23, 63, 27, 56, 97, 41, 15]))"
      ]
     },
     "execution_count": 10,
     "metadata": {},
     "output_type": "execute_result"
    }
   ],
   "source": [
    "dispenser = id_dispenser(100)"
   ]
  },
  {
   "cell_type": "code",
   "execution_count": 11,
   "metadata": {
    "collapsed": true
   },
   "outputs": [],
   "source": [
    "intersections = Dict()\n",
    "block_array = Dict()\n",
    "for i in 0:5\n",
    "    for j in 0:5\n",
    "        id = getId(dispenser)\n",
    "        block_array[(i,j)] = id\n",
    "        θ₁ = rand() / 4\n",
    "        θ₂ = θ₁ + π/2\n",
    "        x = i*10.0 + rand()\n",
    "        y = j*10.0 + rand()\n",
    "        intersections[id] = Intersection(id, x, y, θ₁, θ₂)\n",
    "    end\n",
    "end\n",
    "for i in 1:4\n",
    "    for j in 1:4\n",
    "        id = block_array[(i,j)]\n",
    "        intersections[id].connection_N = block_array[(i,j+1)]\n",
    "        intersections[id].connection_E = block_array[(i+1,j)]\n",
    "        intersections[id].connection_S = block_array[(i,j-1)]\n",
    "        intersections[id].connection_W = block_array[(i-1,j)]\n",
    "    end\n",
    "end"
   ]
  },
  {
   "cell_type": "code",
   "execution_count": 12,
   "metadata": {},
   "outputs": [
    {
     "data": {
      "text/plain": [
       "generateSpline (generic function with 1 method)"
      ]
     },
     "execution_count": 12,
     "metadata": {},
     "output_type": "execute_result"
    }
   ],
   "source": [
    "function generateSpline(pt₁, pt₂, θ₁, θ₂; numPts=100, degree=3, resample=false, Δs=0.5)\n",
    "    \"\"\"\n",
    "    generates a spline that leaves pt1 at heading θ₁, and arrives\n",
    "    at pt2 with heading θ₂\n",
    "    \"\"\"\n",
    "    d = norm(pt₁-pt₂)\n",
    "    V₁ = (d/4) * R(θ₁) * [\n",
    "        0.0 1.0;\n",
    "        0.0 0.0\n",
    "    ] .+ pt₁\n",
    "    V₂ = (d/4) * R(θ₂+π) * [\n",
    "        1.0 0.0;\n",
    "        0.0 0.0\n",
    "    ] .+ pt₂\n",
    "    Pts = hcat(V₁,(V₁[:,end]+V₂[:,1])/2,V₂)\n",
    "    spline = Bspline(Pts, degree, numPts; resample=resample, Δs=Δs)\n",
    "    return spline\n",
    "end"
   ]
  },
  {
   "cell_type": "code",
   "execution_count": 13,
   "metadata": {
    "scrolled": false
   },
   "outputs": [
    {
     "data": {
      "image/png": "[encoded data removed]",
      "text/plain": [
       "PyPlot.Figure(PyObject <matplotlib.figure.Figure object at 0x7fdfb7c0c250>)"
      ]
     },
     "metadata": {},
     "output_type": "display_data"
    }
   ],
   "source": [
    "for (id,I) in intersections\n",
    "    if I.connection_N > -1\n",
    "        I₂ = intersections[I.connection_N]\n",
    "        spline = generateSpline([I.x, I.y], [I₂.x, I₂.y], I.θ₂, I₂.θ₂)\n",
    "        PyPlot.plot(spline.x,spline.y) # plot generated spline roadway\n",
    "    end\n",
    "    if I.connection_E > -1\n",
    "        I₂ = intersections[I.connection_E]\n",
    "        spline = generateSpline([I.x, I.y], [I₂.x, I₂.y], I.θ₁, I₂.θ₁)\n",
    "        PyPlot.plot(spline.x,spline.y) # plot generated spline roadway\n",
    "    end\n",
    "    if I.connection_S > -1\n",
    "        I₂ = intersections[I.connection_S]\n",
    "        spline = generateSpline([I.x, I.y], [I₂.x, I₂.y], I.θ₂+π, I₂.θ₂+π)\n",
    "        PyPlot.plot(spline.x,spline.y) # plot generated spline roadway\n",
    "    end\n",
    "    if I.connection_W > -1\n",
    "        I₂ = intersections[I.connection_W]\n",
    "        spline = generateSpline([I.x, I.y], [I₂.x, I₂.y], I.θ₁+π, I₂.θ₁+π)\n",
    "        PyPlot.plot(spline.x,spline.y) # plot generated spline roadway\n",
    "    end\n",
    "end"
   ]
  },
  {
   "cell_type": "markdown",
   "metadata": {},
   "source": [
    "# Construct Intersection from list of incoming lanes and transitions"
   ]
  },
  {
   "cell_type": "code",
   "execution_count": 7,
   "metadata": {
    "collapsed": true
   },
   "outputs": [],
   "source": [
    "type Intersection\n",
    "    id\n",
    "    x\n",
    "    y\n",
    "    θ₁\n",
    "    θ₂\n",
    "    LanesIn\n",
    "    LanesOut\n",
    "    \n",
    "    connections_out # Dict(:North, :East, :South, :West) => road_id\n",
    "    connections_in # Dict(:North, :East, :South, :West) => road_id\n",
    "    \n",
    "    entrances # Dict(:North, :East, :South, :West) => Dict(-1, 0, 1, ..., offset) => ID(s) of associated lanes\n",
    "    exits # Dict(:North, :East, :South, :West) => Dict(-1, 0, 1, ..., offset) => ID(s) of associated lanes\n",
    "    refpoints # Dict(:North, :East, :South, :West) => Dict(:in,:out) => [x;y]\n",
    "    lanes # Dict(:North, :East, :South, :West) => (x, y)\n",
    "    \n",
    "    function Intersection(id,x,y,θ₁,θ₂,LanesIn)\n",
    "        retval = new()\n",
    "        retval.id = id\n",
    "        retval.x = x\n",
    "        retval.y = y\n",
    "        retval.θ₁ = θ₁\n",
    "        retval.θ₂ = θ₂\n",
    "        retval.connections_out = Dict( k => -1 for k in [:North, :East, :South, :West])\n",
    "        retval.connections_in = Dict( k => -1 for k in [:North, :East, :South, :West])\n",
    "        retval.LanesIn = LanesIn\n",
    "        retval.LanesOut = nothing\n",
    "        \n",
    "        retval.entrances = Dict(\n",
    "            :North => Dict(),\n",
    "            :South => Dict(),\n",
    "            :East => Dict(),\n",
    "            :West => Dict()\n",
    "        )\n",
    "        retval.exits = Dict(\n",
    "            :North => Dict(),\n",
    "            :South => Dict(),\n",
    "            :East => Dict(),\n",
    "            :West => Dict()\n",
    "        )\n",
    "        retval.refpoints = Dict(\n",
    "            :North => Dict(),\n",
    "            :South => Dict(),\n",
    "            :East => Dict(),\n",
    "            :West => Dict()\n",
    "        )\n",
    "        retval.lanes = Dict(\n",
    "            :North => [],\n",
    "            :South => [],\n",
    "            :East => [],\n",
    "            :West => []\n",
    "        )\n",
    "        return retval\n",
    "    end\n",
    "end"
   ]
  },
  {
   "cell_type": "code",
   "execution_count": 14,
   "metadata": {},
   "outputs": [
    {
     "data": {
      "text/plain": [
       "populateIntersection! (generic function with 1 method)"
      ]
     },
     "execution_count": 14,
     "metadata": {},
     "output_type": "execute_result"
    }
   ],
   "source": [
    "function populateIntersection!(intersection,LanesIn;w=1,b=1,Δs=0.5)\n",
    "    \"\"\"\n",
    "    arguments:\n",
    "    \n",
    "    intersection = Intersection object\n",
    "    LanesIn = Dict(\n",
    "        :North => [Set([:Left]), Set([:Left]), Set([:Left,:Straight]), Set([:Straight]), Set([:Straight,:Right])],\n",
    "        :East => [Set([:Left]), Set([:Straight]), Set([:Straight]), Set([:Straight,:Right])],\n",
    "        :South => [Set([:Left,:Straight]), Set([:Straight]), Set([:Straight,:Right])],\n",
    "        :West => [Set([:Left]), Set([:Straight]), Set([:Straight]), Set([:Straight,:Right])]\n",
    "    )\n",
    "    \"\"\"\n",
    "    x₀ = intersection.x\n",
    "    y₀ = intersection.y\n",
    "    θ₁ = intersection.θ₁\n",
    "    θ₂ = intersection.θ₂\n",
    "    \n",
    "    Directions = [:North, :East, :South, :West]\n",
    "    θ = Dict(:East => θ₁, :North => θ₂, :West => θ₁+π, :South => θ₂+π)\n",
    "    Left = Dict(:North => :West, :East => :North, :South => :East, :West => :South)\n",
    "    Right = Dict(:North => :East, :East => :South, :South => :West, :West => :North)\n",
    "    Opposite = Dict(:North => :South, :East => :West, :South => :North, :West => :East)\n",
    "    LanesOut = Dict( k => [Set([:Straight]) for i in 1:max(\n",
    "                    sum([Int(:Straight in lane) for lane in LanesIn[k]]),\n",
    "                    sum([Int(:Left in lane) for lane in LanesIn[Right[k]]]),\n",
    "                    sum([Int(:Right in lane) for lane in LanesIn[Left[k]]]),)] for k in Directions)\n",
    "    D = Dict( k => max(length(LanesIn[k]) + length(LanesOut[Opposite[k]]),\n",
    "            length(LanesIn[Opposite[k]]) + length(LanesOut[k])) for k in Directions)\n",
    "    # incoming lanes - lateral position begins from the right side                          \n",
    "    PositionsIn = Dict( k => [i for i in 1:length(LanesIn[k])] for k in Directions)\n",
    "    # reference positions - for specifying incoming roadway geometry\n",
    "    PositionRefs = Dict( \n",
    "        k => sum([Int(:Straight in lane || :Right in lane) for lane in LanesIn[k]]) for k in Directions)\n",
    "    # outgoing lanes - lateral position counts down from left side (leftover positions are empty--no lanes in them)\n",
    "    PositionsOut = Dict(\n",
    "        k => [D[k] + 1 - i for i in 1:length(LanesOut[k])] for k in Directions \n",
    "    )\n",
    "    d = Dict( k => w*D[k]/2 + b for k in Directions)\n",
    "    d_vecs = Dict( k => d[Right[k]] * R(θ[k]) * [1;0] for k in Directions)\n",
    "    ctrs = Dict( k => d_vecs[k] + [x₀;y₀] for k in Directions)\n",
    "    corners = Dict((k, Left[k]) => d_vecs[k] + d_vecs[Left[k]] + [x₀;y₀] for k in Directions)\n",
    "    # entry points\n",
    "    EntryPoints = Dict( \n",
    "        k => [(corners[Opposite[k], Right[k]] .+ normalize(\n",
    "                    d_vecs[Left[k]])*(w*(p-.5) + b)) for p in PositionsIn[k]] for k in Directions\n",
    "        )\n",
    "    # reference points in\n",
    "    RefPts_In = Dict(\n",
    "        k => EntryPoints[k][PositionRefs[k]] .+ normalize(d_vecs[Left[k]])*w*0.5 for k in Directions\n",
    "        )\n",
    "    \n",
    "    # exit points\n",
    "    ExitPoints = Dict(\n",
    "        k => [(corners[(k, Left[k])] .+ normalize(\n",
    "                    d_vecs[Right[k]])*(w*(p.-.5) + b)) for p in PositionsOut[k]] for k in Directions\n",
    "        )\n",
    "    # reference points out\n",
    "    RefPts_Out = Dict(\n",
    "        k => ExitPoints[k][end] .+ normalize(d_vecs[Left[k]])*w*0.5 for k in Directions\n",
    "    )\n",
    "    # intersection ref points\n",
    "    for (k, pt) in RefPts_In\n",
    "        intersection.refpoints[k][:in] = pt\n",
    "    end\n",
    "    for (k, pt) in RefPts_Out\n",
    "        intersection.refpoints[k][:out] = pt\n",
    "    end\n",
    "\n",
    "    for (j,direction) in enumerate(Directions)\n",
    "        for (i,lane) in enumerate(reverse(LanesIn[direction]))\n",
    "            if :Straight in lane\n",
    "                pt₁ = EntryPoints[direction][i]\n",
    "                pt₂ = ExitPoints[direction][i]\n",
    "                x = collect(linspace(pt₁[1],pt₂[1]))\n",
    "                y = collect(linspace(pt₁[2],pt₂[2]))\n",
    "                push!(intersection.lanes[direction], (x,y))\n",
    "            end\n",
    "            if :Right in lane\n",
    "                x = []\n",
    "                y = []\n",
    "                pt₁ = EntryPoints[direction][i]\n",
    "                pt₂ = ExitPoints[Right[direction]][i]\n",
    "                ctr = corners[(Opposite[direction], Right[direction])]\n",
    "                Δ₁ = pt₁ - ctr\n",
    "                Δ₂ = pt₂ - ctr\n",
    "                if norm(Δ₂) - norm(Δ₁) > 0.01\n",
    "                    append!(x,pt₁[1])\n",
    "                    append!(y,pt₁[2])\n",
    "                    pt₁ = pt₁ .+ Δ₂*(norm(Δ₂)-norm(Δ₁))/norm(Δ₂)\n",
    "                    ctr = ctr .+ Δ₂*(norm(Δ₂)-norm(Δ₁))/norm(Δ₂)\n",
    "                    Δ₁ = pt₁ - ctr\n",
    "                    r = norm(Δ₁)\n",
    "                    ϕ₁ = atan2(Δ₁[2],Δ₁[1])\n",
    "                    ϕ₂ = atan2(Δ₂[2],Δ₂[1])\n",
    "                    ϕ = collect(linspace(ϕ₂,ϕ₂+mod(ϕ₁-ϕ₂,2*π)))\n",
    "                    x = vcat(x, r*cos.(ϕ) + ctr[1])\n",
    "                    y = vcat(y, r*sin.(ϕ) + ctr[2])\n",
    "                elseif norm(Δ₁) - norm(Δ₂) > 0.01\n",
    "                    append!(x,pt₂[1])\n",
    "                    append!(y,pt₂[2])\n",
    "                    pt₂ = pt₂ .+ Δ₁*(norm(Δ₁)-norm(Δ₂))/norm(Δ₁)\n",
    "                    ctr = ctr .+ Δ₁*(norm(Δ₁)-norm(Δ₂))/norm(Δ₁)\n",
    "                    Δ₂ = pt₂ - ctr\n",
    "                    r = norm(Δ₁)\n",
    "                    ϕ₁ = atan2(Δ₁[2],Δ₁[1])\n",
    "                    ϕ₂ = atan2(Δ₂[2],Δ₂[1])\n",
    "                    ϕ = collect(linspace(ϕ₂,ϕ₂+mod(ϕ₁-ϕ₂,2*π)))\n",
    "                    x = vcat(r*cos.(ϕ) + ctr[1], x)\n",
    "                    y = vcat(r*sin.(ϕ) + ctr[2], y)\n",
    "                else\n",
    "                    r = norm(Δ₁)\n",
    "                    ϕ₁ = atan2(Δ₁[2],Δ₁[1])\n",
    "                    ϕ₂ = atan2(Δ₂[2],Δ₂[1])\n",
    "                    ϕ = collect(linspace(ϕ₂,ϕ₂+mod(ϕ₁-ϕ₂,2*π)))\n",
    "                    x = r*cos.(ϕ) + ctr[1]\n",
    "                    y = r*sin.(ϕ) + ctr[2]\n",
    "                end\n",
    "                push!(intersection.lanes[direction], (x,y))\n",
    "            end\n",
    "        end\n",
    "        for (i,lane) in enumerate(LanesIn[direction])\n",
    "            if :Left in lane\n",
    "                x = []\n",
    "                y = []\n",
    "                pt₁ = reverse(EntryPoints[direction])[i]\n",
    "                pt₂ = reverse(ExitPoints[Left[direction]])[i]\n",
    "                ctr = corners[(Left[direction], Opposite[direction])]\n",
    "                Δ₁ = pt₁ - ctr\n",
    "                Δ₂ = pt₂ - ctr\n",
    "                if norm(Δ₂) - norm(Δ₁) > 0.01\n",
    "                    append!(x,pt₁[1])\n",
    "                    append!(y,pt₁[2])\n",
    "                    pt₁ = pt₁ .+ Δ₂*(norm(Δ₂)-norm(Δ₁))/norm(Δ₂)\n",
    "                    ctr = ctr .+ Δ₂*(norm(Δ₂)-norm(Δ₁))/norm(Δ₂)\n",
    "                    Δ₁ = pt₁ - ctr\n",
    "                    Δ₂ = pt₂ - ctr\n",
    "                    r = norm(Δ₁)\n",
    "                    ϕ₁ = atan2(Δ₁[2],Δ₁[1])\n",
    "                    ϕ₂ = atan2(Δ₂[2],Δ₂[1])\n",
    "                    ϕ = collect(linspace(ϕ₁,ϕ₁+mod(ϕ₂-ϕ₁,2*π)))\n",
    "                    x = vcat(x, r*cos.(ϕ) + ctr[1])\n",
    "                    y = vcat(y, r*sin.(ϕ) + ctr[2])\n",
    "                elseif norm(Δ₁) - norm(Δ₂) > 0.01\n",
    "                    append!(x,pt₂[1])\n",
    "                    append!(y,pt₂[2])\n",
    "                    pt₂ = pt₂ .+ Δ₁*(norm(Δ₁)-norm(Δ₂))/norm(Δ₁)\n",
    "                    ctr = ctr .+ Δ₁*(norm(Δ₁)-norm(Δ₂))/norm(Δ₁)\n",
    "                    Δ₁ = pt₁ - ctr\n",
    "                    Δ₂ = pt₂ - ctr\n",
    "                    r = norm(Δ₂)\n",
    "                    ϕ₁ = atan2(Δ₁[2],Δ₁[1])\n",
    "                    ϕ₂ = atan2(Δ₂[2],Δ₂[1])\n",
    "                    ϕ = collect(linspace(ϕ₁,ϕ₁+mod(ϕ₂-ϕ₁,2*π)))\n",
    "                    x = vcat(r*cos.(ϕ) + ctr[1], x)\n",
    "                    y = vcat(r*sin.(ϕ) + ctr[2], y)\n",
    "                else\n",
    "                    r = norm(Δ₁)\n",
    "                    ϕ₁ = atan2(Δ₁[2],Δ₁[1])\n",
    "                    ϕ₂ = atan2(Δ₂[2],Δ₂[1])\n",
    "                    ϕ = collect(linspace(ϕ₁,ϕ₁+mod(ϕ₂-ϕ₁,2*π)))\n",
    "                    x = r*cos.(ϕ) + ctr[1]\n",
    "                    y = r*sin.(ϕ) + ctr[2]\n",
    "                end\n",
    "                push!(intersection.lanes[direction], (x,y))\n",
    "            end\n",
    "        end\n",
    "    end\n",
    "end"
   ]
  },
  {
   "cell_type": "code",
   "execution_count": 15,
   "metadata": {
    "collapsed": true
   },
   "outputs": [],
   "source": [
    "id = 0\n",
    "x = 0\n",
    "y = 0\n",
    "θ₁ = -π/6\n",
    "θ₂ = θ₁+π/2\n",
    "I1 = Intersection(id,x,y,θ₁,θ₂);"
   ]
  },
  {
   "cell_type": "code",
   "execution_count": 16,
   "metadata": {
    "collapsed": true,
    "scrolled": true
   },
   "outputs": [],
   "source": [
    "id = 1\n",
    "θ₁ = π/6\n",
    "θ₂ = θ₁+π/2\n",
    "I2 = Intersection(id,33,2,θ₁,θ₂);"
   ]
  },
  {
   "cell_type": "code",
   "execution_count": 17,
   "metadata": {
    "collapsed": true,
    "scrolled": true
   },
   "outputs": [],
   "source": [
    "LanesIn = Dict(\n",
    "    :North => [Set([:Left]), Set([:Left]), Set([:Left,:Straight]), Set([:Straight]), Set([:Straight,:Right])],\n",
    "    :East => [Set([:Left]), Set([:Straight]), Set([:Straight]), Set([:Straight,:Right])],\n",
    "    :South => [Set([:Left,:Straight]), Set([:Straight]), Set([:Straight,:Right])],\n",
    "    :West => [Set([:Left]), Set([:Straight]), Set([:Straight]), Set([:Straight,:Right])]\n",
    ")\n",
    "populateIntersection!(I1,LanesIn; b=3)\n",
    "populateIntersection!(I2,LanesIn; b=3)"
   ]
  },
  {
   "cell_type": "code",
   "execution_count": 18,
   "metadata": {
    "collapsed": true
   },
   "outputs": [],
   "source": [
    "splineA = generateSpline(I1.refpoints[:East][:out], I2.refpoints[:East][:in], I1.θ₁, I2.θ₁; degree=3);\n",
    "splineB = generateSpline(I2.refpoints[:West][:out], I1.refpoints[:West][:in], I2.θ₁+π, I1.θ₁+π; degree=3);\n",
    "splineC = generateSpline(I2.refpoints[:North][:out], I1.refpoints[:South][:in], I2.θ₂, I1.θ₂+π; degree=3);\n",
    "splineD = generateSpline(I1.refpoints[:North][:out], I2.refpoints[:South][:in], I1.θ₂, I2.θ₂+π; degree=3);"
   ]
  },
  {
   "cell_type": "code",
   "execution_count": 19,
   "metadata": {},
   "outputs": [
    {
     "data": {
      "image/png": "[encoded data removed]",
      "text/plain": [
       "PyPlot.Figure(PyObject <matplotlib.figure.Figure object at 0x7fdfb7917e50>)"
      ]
     },
     "metadata": {},
     "output_type": "display_data"
    }
   ],
   "source": [
    "colors = Dict(\n",
    "    :North => \"red\",\n",
    "    :East => \"blue\",\n",
    "    :South => \"green\",\n",
    "    :West => \"orange\",\n",
    ")\n",
    "for (direction, lanes) in I1.lanes\n",
    "    for lane in lanes\n",
    "        PyPlot.plot(lane[1],lane[2],c=colors[direction])\n",
    "    end\n",
    "end\n",
    "for (direction, refs) in I1.refpoints\n",
    "    PyPlot.scatter(refs[:in][1],refs[:in][2],c=\"orange\")\n",
    "    PyPlot.scatter(refs[:out][1],refs[:out][2],c=\"black\")\n",
    "end\n",
    "for (direction, lanes) in I2.lanes\n",
    "    for lane in lanes\n",
    "        PyPlot.plot(lane[1],lane[2],c=colors[direction])\n",
    "    end\n",
    "end\n",
    "for (direction, refs) in I2.refpoints\n",
    "    PyPlot.scatter(refs[:in][1],refs[:in][2],c=\"orange\")\n",
    "    PyPlot.scatter(refs[:out][1],refs[:out][2],c=\"black\")\n",
    "end\n",
    "PyPlot.plot(splineA.x,splineA.y)\n",
    "PyPlot.plot(splineB.x,splineB.y)\n",
    "PyPlot.plot(splineC.x,splineC.y)\n",
    "PyPlot.plot(splineD.x,splineD.y)\n",
    "PyPlot.axis(\"equal\");"
   ]
  },
  {
   "cell_type": "code",
   "execution_count": 20,
   "metadata": {
    "collapsed": true
   },
   "outputs": [],
   "source": [
    "splineA = generateSpline(I1.refpoints[:East][:out], I2.refpoints[:East][:in], I1.θ₁, I2.θ₁; degree=3);\n",
    "refs_in = \n",
    "ResampleByArcLength!(splineA; Δs=1.0);"
   ]
  },
  {
   "cell_type": "code",
   "execution_count": 21,
   "metadata": {},
   "outputs": [
    {
     "data": {
      "image/png": "[encoded data removed]",
      "text/plain": [
       "PyPlot.Figure(PyObject <matplotlib.figure.Figure object at 0x7fdfb767cd10>)"
      ]
     },
     "metadata": {},
     "output_type": "display_data"
    },
    {
     "data": {
      "text/plain": [
       "(4.736742383333729, 28.263257616666266, -6.224994685650034, -1.720129206067018)"
      ]
     },
     "execution_count": 21,
     "metadata": {},
     "output_type": "execute_result"
    }
   ],
   "source": [
    "PyPlot.scatter(splineA.x,splineA.y)\n",
    "\n",
    "PyPlot.axis(\"equal\")"
   ]
  },
  {
   "cell_type": "markdown",
   "metadata": {},
   "source": [
    "# Generate Connecting Roadway Geometry (between intersections)"
   ]
  },
  {
   "cell_type": "markdown",
   "metadata": {},
   "source": [
    "# Dubbins stuff"
   ]
  },
  {
   "cell_type": "code",
   "execution_count": 565,
   "metadata": {},
   "outputs": [
    {
     "data": {
      "text/plain": [
       "Dubbins (generic function with 3 methods)"
      ]
     },
     "execution_count": 565,
     "metadata": {},
     "output_type": "execute_result"
    }
   ],
   "source": [
    "function Dubbins(pt₁,pt₂,θ₁,θ₂; Δs = 0.5)\n",
    "    \"\"\"\n",
    "    returns points along Dubbins curve from Pt1 to Pt2\n",
    "    \"\"\"\n",
    "    Δθ = θ₂ - θ₁\n",
    "\n",
    "    vecA = [cos(θ₁);sin(θ₁)]*(pt₂-pt₁)'*[cos(θ₁);sin(θ₁)]\n",
    "    vecB = (pt₂-pt₁) - vecA\n",
    "    vecD = [cos(θ₂);sin(θ₂)]*norm(vecB)/abs(sin(Δθ))\n",
    "    vecC = pt₂ - vecD\n",
    "\n",
    "    p₁ = pt₁\n",
    "    p₄ = pt₂\n",
    "\n",
    "    if norm(vecC) < norm(vecD)\n",
    "        p₂ = pt₁\n",
    "        p₃ = pt₂ - vecD*(1-norm(vecC)/norm(vecD))\n",
    "    elseif norm(vecD) < norm(vecC)\n",
    "        p₂ = pt₁ + vecC * (1-norm(vecD)/norm(vecC))\n",
    "        p₃ = pt₂\n",
    "    else\n",
    "        p₂ = pt₁\n",
    "        p₃ = pt₂\n",
    "    end\n",
    "\n",
    "    A = (p₃-p₂)'*[cos(θ₁);sin(θ₁)]\n",
    "    C = A / sin(θ₂-θ₁)\n",
    "    X = R(θ₁)*[0;C] + p₂# <==== Center point\n",
    "\n",
    "    Δ₁ = p₂ - X\n",
    "    Δ₂ = p₃ - X\n",
    "    r = norm(Δ₁)\n",
    "    ϕ₁ = atan2(Δ₁[2],Δ₁[1])\n",
    "    ϕ₂ = atan2(Δ₂[2],Δ₂[1])\n",
    "    Δϕ = mod(ϕ₂,2*π)-mod(ϕ₁,2*π)\n",
    "    if abs(Δϕ) > π\n",
    "        Δϕ -= sign(Δϕ)*2*π\n",
    "    end\n",
    "\n",
    "    vec1 = X + norm(Δ₁)*[cos(ϕ₁);sin(ϕ₁)]\n",
    "    vec2 = X + norm(Δ₂)*[cos(ϕ₂);sin(ϕ₂)]\n",
    "\n",
    "    L = norm(p₂-p₁) + abs(r*Δϕ) + norm(p₄-p₃)\n",
    "    Δŝ = L / ceil(L/Δs)\n",
    "    # straight line p₁ -> p₂\n",
    "    pts = p₁\n",
    "    L₁₂ = norm(p₂-p₁)\n",
    "    ds = 0\n",
    "    @show n = Int(div(L₁₂, Δŝ))\n",
    "    if n > 0\n",
    "        pts = pts[:,end] .+ ((p₂-p₁)/L₁₂) * collect(linspace(ds, ds+n*Δŝ, n+1))'\n",
    "        @show ds = Δŝ - mod(L₁₂, Δŝ)\n",
    "    end\n",
    "    # arc p₁ -> p₂\n",
    "    ϕ₁ += sign(Δϕ)*ds/r\n",
    "    Δϕ -= sign(Δϕ)*ds/r\n",
    "    @show n = Int(div(abs(Δϕ*r), Δŝ))\n",
    "    if n > 0\n",
    "        ϕ = collect(linspace(ϕ₁,ϕ₁+n*sign(Δϕ)*Δŝ/r,n+1))\n",
    "        pts = hcat(pts, X .+ r * hcat(cos.(ϕ), sin.(ϕ))')\n",
    "        dϕ = mod(ϕ[end] - ϕ₂,2*π)\n",
    "        @show ds = -sign(dϕ) * min(abs(dϕ), abs(2π-dϕ)) * r + Δŝ\n",
    "    end\n",
    "    # straight line p₃ -> p₄\n",
    "    L₃₄ = norm(p₄-p₃)\n",
    "    @show n = Int(div(L₃₄ - ds, Δŝ))\n",
    "    if n > 0\n",
    "        pts = hcat(pts, p₃ .+ ((p₄-p₃)/L₃₄) * collect(linspace(ds, ds+n*Δŝ, n+1))')\n",
    "        @show ds = -mod(L₃₄ - ds, Δŝ)\n",
    "    end\n",
    "    \n",
    "    x = pts[1,:]\n",
    "    y = pts[2,:]\n",
    "    return x,y\n",
    "end"
   ]
  },
  {
   "cell_type": "code",
   "execution_count": 577,
   "metadata": {},
   "outputs": [
    {
     "data": {
      "image/png": "[encoded data removed]",
      "text/plain": [
       "PyPlot.Figure(PyObject <matplotlib.figure.Figure object at 0x7fdfafa560d0>)"
      ]
     },
     "metadata": {},
     "output_type": "display_data"
    },
    {
     "name": "stdout",
     "output_type": "stream",
     "text": [
      "n = Int(div(L₁₂, Δŝ)) = 0\n",
      "n = Int(div(abs(Δϕ * r), Δŝ)) = 9\n",
      "ds = -(sign(dϕ)) * min(abs(dϕ), abs(2π - dϕ)) * r + Δŝ = 0.1438055098076545\n",
      "n = Int(div(L₃₄ - ds, Δŝ)) = 10\n",
      "ds = -(mod(L₃₄ - ds, Δŝ)) = -8.881784197001252e-16\n"
     ]
    },
    {
     "data": {
      "text/plain": [
       "(-0.5129152372203438, 9.452995963677159, -1.2017893378942486, 3.2375760957792217)"
      ]
     },
     "execution_count": 577,
     "metadata": {},
     "output_type": "execute_result"
    }
   ],
   "source": [
    "# pt₁ = [rand();rand()]\n",
    "# pt₂ = 10*[rand();rand()]\n",
    "# θ = atan2((pt₂-pt₁)[1],(pt₂-pt₁)[2])\n",
    "# θ₁ = θ + (rand() - 0.5) * 3*π/4\n",
    "# θ₂ = θ + sign(θ - θ₁)*rand() * π/2\n",
    "\n",
    "pt₁ = [0;0]\n",
    "pt₂ = [8;3]\n",
    "θ₁ = 4π/8\n",
    "θ₂ = 0\n",
    "\n",
    "x,y = Dubbins(pt₁,pt₂,θ₁,θ₂)\n",
    "PyPlot.scatter([pt₁[1], pt₂[1]],[pt₁[2], pt₂[2]])\n",
    "PyPlot.plot([pt₁[1], (R(θ₁)*[-1;0]+pt₁)[1]],[pt₁[2], (R(θ₁)*[-1;0]+pt₁)[2]])\n",
    "PyPlot.plot([pt₂[1], (R(θ₂)*[1;0]+pt₂)[1]],[pt₂[2], (R(θ₂)*[1;0]+pt₂)[2]])\n",
    "PyPlot.scatter(x,y)\n",
    "PyPlot.axis(\"equal\")"
   ]
  },
  {
   "cell_type": "code",
   "execution_count": 90,
   "metadata": {},
   "outputs": [
    {
     "data": {
      "text/plain": [
       "2-element Array{Float64,1}:\n",
       " -1.58114\n",
       "  4.74342"
      ]
     },
     "execution_count": 90,
     "metadata": {},
     "output_type": "execute_result"
    }
   ],
   "source": [
    "A = sum(pt₂ .* [cos(θ₁);sin(θ₁)])\n",
    "C = A/sin(θ₂-θ₁)\n",
    "X = C*[cos(-θ₁);sin(-θ₁)]"
   ]
  },
  {
   "cell_type": "code",
   "execution_count": 138,
   "metadata": {},
   "outputs": [
    {
     "data": {
      "text/plain": [
       "0.5"
      ]
     },
     "execution_count": 138,
     "metadata": {},
     "output_type": "execute_result"
    }
   ],
   "source": [
    "Δs = 0.5"
   ]
  },
  {
   "cell_type": "code",
   "execution_count": 564,
   "metadata": {
    "scrolled": false
   },
   "outputs": [
    {
     "data": {
      "image/png": "[encoded data removed]",
      "text/plain": [
       "PyPlot.Figure(PyObject <matplotlib.figure.Figure object at 0x7fdfb78fd590>)"
      ]
     },
     "metadata": {},
     "output_type": "display_data"
    },
    {
     "name": "stdout",
     "output_type": "stream",
     "text": [
      "n = Int(div(L₁₂, Δŝ)) = 0\n",
      "n = Int(div(abs(Δϕ * r), Δŝ)) = 8\n",
      "ds = -(sign(dϕ)) * min(abs(dϕ), abs(2π - dϕ)) * r + Δŝ = 0.31760861463889856\n",
      "n = Int(div(L₃₄ - ds, Δŝ)) = 12\n",
      "ds = -(mod(L₃₄ - ds, Δŝ)) = -0.49536543832629354\n"
     ]
    },
    {
     "data": {
      "text/plain": [
       "(-9.6, 3.5999999999999983, -2.7774773123281373, 3.327023558890885)"
      ]
     },
     "execution_count": 564,
     "metadata": {},
     "output_type": "execute_result"
    }
   ],
   "source": [
    "pt₁ = [0;0]\n",
    "pt₂ = [-8;3]\n",
    "θ₁ = π/4\n",
    "θ₂ = π\n",
    "Δθ = θ₂ - θ₁\n",
    "\n",
    "vecA = [cos(θ₁);sin(θ₁)]*(pt₂-pt₁)'*[cos(θ₁);sin(θ₁)]\n",
    "vecB = (pt₂-pt₁) - vecA\n",
    "vecD = [cos(θ₂);sin(θ₂)]*norm(vecB)/abs(sin(Δθ))\n",
    "vecC = pt₂ - vecD\n",
    "\n",
    "p₁ = pt₁\n",
    "p₄ = pt₂\n",
    "\n",
    "if norm(vecC) < norm(vecD)\n",
    "    p₂ = pt₁\n",
    "    p₃ = pt₂ - vecD*(1-norm(vecC)/norm(vecD))\n",
    "elseif norm(vecD) < norm(vecC)\n",
    "    p₂ = pt₁ + vecC * (1-norm(vecD)/norm(vecC))\n",
    "    p₃ = pt₂\n",
    "else\n",
    "    p₂ = pt₁\n",
    "    p₃ = pt₂\n",
    "end\n",
    "\n",
    "A = (p₃-p₂)'*[cos(θ₁);sin(θ₁)]\n",
    "C = A / sin(θ₂-θ₁)\n",
    "X = R(θ₁)*[0;C] + p₂# <==== Center point\n",
    "\n",
    "Δ₁ = p₂ - X\n",
    "Δ₂ = p₃ - X\n",
    "r = norm(Δ₁)\n",
    "ϕ₁ = atan2(Δ₁[2],Δ₁[1])\n",
    "ϕ₂ = atan2(Δ₂[2],Δ₂[1])\n",
    "Δϕ = mod(ϕ₂,2*π)-mod(ϕ₁,2*π)\n",
    "if abs(Δϕ) > π\n",
    "    Δϕ -= sign(Δϕ)*2*π\n",
    "end\n",
    "\n",
    "vec1 = X + norm(Δ₁)*[cos(ϕ₁);sin(ϕ₁)]\n",
    "vec2 = X + norm(Δ₂)*[cos(ϕ₂);sin(ϕ₂)]\n",
    "\n",
    "L = norm(p₂-p₁) + abs(r*Δϕ) + norm(p₄-p₃)\n",
    "Δŝ = L / ceil(L/Δs)\n",
    "# straight line p₁ -> p₂\n",
    "pts = p₁\n",
    "L₁₂ = norm(p₂-p₁)\n",
    "ds = 0\n",
    "@show n = Int(div(L₁₂, Δŝ))\n",
    "if n > 0\n",
    "    pts = pts[:,end] .+ ((p₂-p₁)/L₁₂) * collect(linspace(ds, ds+n*Δŝ, n+1))'\n",
    "    @show ds = Δŝ - mod(L₁₂, Δŝ)\n",
    "end\n",
    "# arc p₁ -> p₂\n",
    "ϕ₁ += sign(Δϕ)*ds/r\n",
    "Δϕ -= sign(Δϕ)*ds/r\n",
    "@show n = Int(div(abs(Δϕ*r), Δŝ))\n",
    "if n > 0\n",
    "    ϕ = collect(linspace(ϕ₁,ϕ₁+n*sign(Δϕ)*Δŝ/r,n+1))\n",
    "    pts = hcat(pts, X .+ r * hcat(cos.(ϕ), sin.(ϕ))')\n",
    "    dϕ = mod(ϕ[end] - ϕ₂,2*π)\n",
    "    @show ds = -sign(dϕ)*min(abs(dϕ), abs(2π-dϕ)) * r + Δŝ\n",
    "end\n",
    "# straight line p₃ -> p₄\n",
    "L₃₄ = norm(p₄-p₃)\n",
    "@show n = Int(div(L₃₄ - ds, Δŝ))\n",
    "if n > 0\n",
    "    pts = hcat(pts, p₃ .+ ((p₄-p₃)/L₃₄) * collect(linspace(ds, ds+n*Δŝ, n+1))')\n",
    "    @show ds = -mod(L₃₄ - ds, Δŝ)\n",
    "end\n",
    "\n",
    "PyPlot.scatter([pt₁[1], pt₂[1]],[pt₁[2], pt₂[2]])\n",
    "PyPlot.plot([pt₁[1], (R(θ₁)*[1;0]+pt₁)[1]],[pt₁[2], (R(θ₁)*[1;0]+pt₁)[2]])\n",
    "PyPlot.plot([pt₂[1], (R(θ₂)*[1;0]+pt₂)[1]],[pt₂[2], (R(θ₂)*[1;0]+pt₂)[2]])\n",
    "PyPlot.plot([pt₁[1], (pt₁+vecA)[1]],[pt₁[2], (pt₁+vecA)[2]])\n",
    "PyPlot.plot([(pt₁+vecA)[1], (pt₁+vecA+vecB)[1]],[(pt₁+vecA)[2], (pt₁+vecA+vecB)[2]])\n",
    "PyPlot.plot([pt₂[1], (pt₂-vecD)[1]],[pt₂[2], (pt₂-vecD)[2]])\n",
    "PyPlot.plot([pt₁[1], (pt₁+vecC)[1]],[pt₁[2], (pt₁+vecC)[2]])\n",
    "\n",
    "# PyPlot.scatter(X[1],X[2])\n",
    "PyPlot.scatter(hcat(p₁,p₂,p₃,p₄)[1,:],hcat(p₁,p₂,p₃,p₄)[2,:])\n",
    "\n",
    "PyPlot.scatter(pts[1,:],pts[2,:])\n",
    "\n",
    "\n",
    "# PyPlot.plot([X[1], vec1[1]],[X[2], vec1[2]])\n",
    "# PyPlot.plot([X[1], vec2[1]],[X[2], vec2[2]])\n",
    "PyPlot.axis(\"equal\")\n",
    "# end"
   ]
  },
  {
   "cell_type": "code",
   "execution_count": 546,
   "metadata": {},
   "outputs": [
    {
     "data": {
      "text/plain": [
       "9.894850425232878"
      ]
     },
     "execution_count": 546,
     "metadata": {},
     "output_type": "execute_result"
    }
   ],
   "source": [
    "r*mod(ϕ[end] - ϕ₂, 2π) + Δŝ"
   ]
  },
  {
   "cell_type": "code",
   "execution_count": 532,
   "metadata": {},
   "outputs": [
    {
     "data": {
      "text/plain": [
       "([0, 0], [0, 0], [-0.596737, 3.0], [-8, 3])"
      ]
     },
     "execution_count": 532,
     "metadata": {},
     "output_type": "execute_result"
    }
   ],
   "source": [
    "p₁,p₂,p₃,p₄"
   ]
  },
  {
   "cell_type": "code",
   "execution_count": null,
   "metadata": {
    "collapsed": true
   },
   "outputs": [],
   "source": [
    "p₂ = pt₁\n",
    "p₃ = pt₂ - vecD*(1-norm(vecC)/norm(vecD))"
   ]
  },
  {
   "cell_type": "code",
   "execution_count": 475,
   "metadata": {},
   "outputs": [
    {
     "data": {
      "text/plain": [
       "(3.17157287525381, 3.17157287525381)"
      ]
     },
     "execution_count": 475,
     "metadata": {},
     "output_type": "execute_result"
    }
   ],
   "source": [
    "p₁,p₂,p₃,p₄\n",
    "norm(p₂-XC),norm(p₃-XC)"
   ]
  },
  {
   "cell_type": "code",
   "execution_count": 385,
   "metadata": {},
   "outputs": [
    {
     "data": {
      "image/png": "[encoded data removed]",
      "text/plain": [
       "PyPlot.Figure(PyObject <matplotlib.figure.Figure object at 0x7fdfae2187d0>)"
      ]
     },
     "metadata": {},
     "output_type": "display_data"
    },
    {
     "data": {
      "text/plain": [
       "(-2.356194490192345, 1.5707963267948948, -2.3561944901923466)"
      ]
     },
     "execution_count": 385,
     "metadata": {},
     "output_type": "execute_result"
    }
   ],
   "source": [
    "# ϕ₁ = rand()*2*π\n",
    "# ϕ₂ = rand()*2*π\n",
    "Δϕ = mod(ϕ₂,2*π)-mod(ϕ₁,2*π)\n",
    "if abs(Δϕ) > π\n",
    "    Δϕ -= sign(Δϕ)*2*π\n",
    "end\n",
    "ϕ = collect(linspace(ϕ₁,ϕ₁+Δϕ))\n",
    "\n",
    "PyPlot.figure(figsize=[3,3])\n",
    "PyPlot.plot([0, cos(ϕ₁)],[0, sin(ϕ₁)],c=\"g\")\n",
    "PyPlot.plot([0, cos(ϕ₂)],[0, sin(ϕ₂)],c=\"r\")\n",
    "PyPlot.plot(cos.(ϕ),sin.(ϕ),c=\"b\")\n",
    "PyPlot.axis(\"off\")\n",
    "PyPlot.xlim([-1.1,1.1])\n",
    "PyPlot.ylim([-1.1,1.1])\n",
    "ϕ₁,ϕ₂,Δϕ"
   ]
  },
  {
   "cell_type": "code",
   "execution_count": 80,
   "metadata": {},
   "outputs": [
    {
     "data": {
      "image/png": "[encoded data removed]",
      "text/plain": [
       "PyPlot.Figure(PyObject <matplotlib.figure.Figure object at 0x7fdfae8e7350>)"
      ]
     },
     "metadata": {},
     "output_type": "display_data"
    }
   ],
   "source": [
    "# Δ₁ = pt₁ - ctr\n",
    "# Δ₂ = pt₂ - ctr\n",
    "# θ₁ = atan2(Δ₂[2],Δ₂[1])\n",
    "# θ₂ = atan2(Δ₁[2],Δ₁[1]) + π\n",
    "\n",
    "Δθ = θ₂-θ₁\n",
    "p2 = R(-θ₁)*pt₂\n",
    "p1 = R(-θ₁)*pt₁\n",
    "\n",
    "rc = p2[1] - p2[2]*cot(Δθ)\n",
    "pc = rc*[cos(θ₁);sin(θ₁)] + pt₁\n",
    "\n",
    "Δ₁ = pt₁ - pc\n",
    "Δ₂ = pt₂ - pc\n",
    "\n",
    "ptC = [0;0]\n",
    "\n",
    "if norm(Δ₂) > norm(Δ₁)\n",
    "    pt₃ = pt₂\n",
    "    pt₂ = pc + norm(Δ₁) * Δ₂ / norm(Δ₂)\n",
    "    r = p2[1]/sin(θ₂-θ₁)\n",
    "    ptC = R(θ₁)*[0;r]\n",
    "    \n",
    "elseif norm(Δ₂) < norm(Δ₁)\n",
    "    pt₃ = pt₂\n",
    "    pt₂ = pc + norm(Δ₂) * Δ₁ / norm(Δ₁)\n",
    "    r = p2[1]/sin(θ₂-θ₁)\n",
    "    ptC = R(θ₁)*[0;r]\n",
    "else\n",
    "end\n",
    "\n",
    "p3 = R(-θ₁)*pt₃\n",
    "p2 = R(-θ₁)*pt₂\n",
    "p1 = R(-θ₁)*pt₁\n",
    "\n",
    "x,y = Dubbins(pt₁, pt₂, ctr)\n",
    "PyPlot.figure(figsize=[12,4])\n",
    "PyPlot.subplot(1,2,1)\n",
    "PyPlot.scatter([pt₁[1], pt₂[1], pt₃[1]],[pt₁[2], pt₂[2], pt₃[2]])\n",
    "PyPlot.scatter(pc[1],pc[2])\n",
    "PyPlot.scatter(ptC[1],ptC[2])\n",
    "PyPlot.plot([pt₁[1], (R(θ₁)*[1;0]+pt₁)[1]],[pt₁[2], (R(θ₁)*[1;0]+pt₁)[2]])\n",
    "PyPlot.plot([pt₂[1], (R(θ₂)*[1;0]+pt₂)[1]],[pt₂[2], (R(θ₂)*[1;0]+pt₂)[2]])\n",
    "PyPlot.axis(\"equal\");\n",
    "\n",
    "PyPlot.subplot(1,2,2)\n",
    "PyPlot.scatter([p1[1], p2[1], p3[1]],[p1[2], p2[2], p3[2]])\n",
    "PyPlot.scatter(rc, 0)\n",
    "PyPlot.plot([p1[1], (R(θ₁-θ₁)*[1;0]+p1)[1]],[p1[2], (R(θ₁-θ₁)*[1;0]+p1)[2]])\n",
    "PyPlot.plot([p2[1], (R(θ₂-θ₁)*[1;0]+p2)[1]],[p2[2], (R(θ₂-θ₁)*[1;0]+p2)[2]])\n",
    "PyPlot.axis(\"equal\");"
   ]
  }
 ],
 "metadata": {
  "kernelspec": {
   "display_name": "Julia 0.6.0",
   "language": "julia",
   "name": "julia-0.6"
  },
  "language_info": {
   "file_extension": ".jl",
   "mimetype": "application/julia",
   "name": "julia",
   "version": "0.6.0"
  }
 },
 "nbformat": 4,
 "nbformat_minor": 2
}
